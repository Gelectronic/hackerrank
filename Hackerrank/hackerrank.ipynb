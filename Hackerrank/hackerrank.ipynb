{
 "cells": [
  {
   "cell_type": "markdown",
   "metadata": {},
   "source": [
    "``` python \n",
    "if n %2!=0  #išmeta neporinį skaičių"
   ]
  },
  {
   "cell_type": "code",
   "execution_count": 53,
   "metadata": {},
   "outputs": [
    {
     "ename": "ValueError",
     "evalue": "invalid literal for int() with base 10: ''",
     "output_type": "error",
     "traceback": [
      "\u001b[0;31m---------------------------------------------------------------------------\u001b[0m",
      "\u001b[0;31mValueError\u001b[0m                                Traceback (most recent call last)",
      "Cell \u001b[0;32mIn [53], line 1\u001b[0m\n\u001b[0;32m----> 1\u001b[0m n \u001b[38;5;241m=\u001b[39m \u001b[38;5;28mint\u001b[39m(\u001b[38;5;28minput\u001b[39m(\u001b[38;5;124m\"\u001b[39m\u001b[38;5;124miveskite\u001b[39m\u001b[38;5;124m\"\u001b[39m))\n\u001b[1;32m      2\u001b[0m \u001b[38;5;28mprint\u001b[39m(\u001b[38;5;124m\"\u001b[39m\u001b[38;5;124mWeird\u001b[39m\u001b[38;5;124m\"\u001b[39m) \u001b[38;5;28;01mif\u001b[39;00m n \u001b[38;5;241m%\u001b[39m\u001b[38;5;241m2\u001b[39m\u001b[38;5;241m!=\u001b[39m\u001b[38;5;241m0\u001b[39m \u001b[38;5;28;01melse\u001b[39;00m \u001b[38;5;28mprint\u001b[39m(\u001b[38;5;124m\"\u001b[39m\u001b[38;5;124mWeird\u001b[39m\u001b[38;5;124m\"\u001b[39m) \\\n\u001b[1;32m      3\u001b[0m     \u001b[38;5;28;01mif\u001b[39;00m \u001b[38;5;241m6\u001b[39m \u001b[38;5;241m<\u001b[39m\u001b[38;5;241m=\u001b[39m n \u001b[38;5;241m<\u001b[39m\u001b[38;5;241m=\u001b[39m \u001b[38;5;241m20\u001b[39m \u001b[38;5;28;01melse\u001b[39;00m \u001b[38;5;28mprint\u001b[39m(\u001b[38;5;124m\"\u001b[39m\u001b[38;5;124mNot Weird\u001b[39m\u001b[38;5;124m\"\u001b[39m) \u001b[38;5;28;01mif\u001b[39;00m \u001b[38;5;241m2\u001b[39m \u001b[38;5;241m<\u001b[39m\u001b[38;5;241m=\u001b[39m n \u001b[38;5;241m<\u001b[39m\u001b[38;5;241m=\u001b[39m \u001b[38;5;241m5\u001b[39m \u001b[38;5;28;01melse\u001b[39;00m \u001b[38;5;28mprint\u001b[39m(\u001b[38;5;124m\"\u001b[39m\u001b[38;5;124mNot Weird\u001b[39m\u001b[38;5;124m\"\u001b[39m)\\\n\u001b[1;32m      4\u001b[0m         \u001b[38;5;28;01mif\u001b[39;00m n \u001b[38;5;241m>\u001b[39m \u001b[38;5;241m20\u001b[39m \u001b[38;5;28;01melse\u001b[39;00m \u001b[38;5;28mprint\u001b[39m()\n",
      "\u001b[0;31mValueError\u001b[0m: invalid literal for int() with base 10: ''"
     ]
    }
   ],
   "source": [
    "n = int(input(\"iveskite\"))\n",
    "print(\"Weird\") if n %2!=0 else print(\"Weird\") \\\n",
    "    if 6 <= n <= 20 else print(\"Not Weird\") if 2 <= n <= 5 else print(\"Not Weird\")\\\n",
    "        if n > 20 else print()"
   ]
  },
  {
   "cell_type": "markdown",
   "metadata": {},
   "source": [
    "```python \n",
    "10 ** 10 # ** keliama laipsniu vietoj ^"
   ]
  },
  {
   "cell_type": "code",
   "execution_count": null,
   "metadata": {},
   "outputs": [],
   "source": [
    "a = int(input(\"skaičius a\"))\n",
    "b = int(input(\"skaičius b\"))\n",
    "\n",
    "if 1 <= a <= 10 ** 10 and 1 <= b <= 10 ** 10:\n",
    "    print(a + b)\n",
    "    print(a - b)\n",
    "    print(a * b)\n",
    "    \n",
    "    "
   ]
  },
  {
   "cell_type": "code",
   "execution_count": null,
   "metadata": {},
   "outputs": [],
   "source": [
    "a = int(input(\"skaičius a\"))\n",
    "b = int(input(\"skaičius b\"))\n",
    "\n",
    "print( a // b)\n",
    "print(a / b)"
   ]
  },
  {
   "cell_type": "code",
   "execution_count": null,
   "metadata": {},
   "outputs": [],
   "source": [
    "n = int(input(\"n\"))\n",
    "\n",
    "for i in range(0,n):\n",
    "    print(i ** 2)\n"
   ]
  },
  {
   "cell_type": "markdown",
   "metadata": {},
   "source": [
    "```python\n",
    "year %4  # % gražina liekaną po kablelio pvz 3/2 = 1,5 -> 5\n",
    "year != 0 # != nelygu 0"
   ]
  },
  {
   "cell_type": "code",
   "execution_count": null,
   "metadata": {},
   "outputs": [],
   "source": [
    "def is_leap(year):\n",
    "    leap = False\n",
    "    \n",
    "    if year %4 == 0 and year %100 != 0:\n",
    "        return True\n",
    "    if year %400 ==0:\n",
    "        return True\n",
    "    else:\n",
    "        return False\n",
    "\n",
    "    \n",
    "    return leap\n",
    "year = int(input())\n",
    "\n",
    "is_leap(year)"
   ]
  },
  {
   "cell_type": "markdown",
   "metadata": {},
   "source": [
    "``` python\n",
    "print(v, end=\"\") # spausdina į vieną eilutę"
   ]
  },
  {
   "cell_type": "code",
   "execution_count": null,
   "metadata": {},
   "outputs": [],
   "source": [
    "n = int(input())\n",
    "a = [ i for i in range (1, n + 1)]\n",
    "print(a)\n",
    "\n",
    "for v in range (1, n + 1):\n",
    "    print(v, end=\"\")\n"
   ]
  },
  {
   "cell_type": "code",
   "execution_count": null,
   "metadata": {},
   "outputs": [],
   "source": [
    "from decimal import Decimal\n",
    "from unicodedata import decimal\n",
    "#TODO: nepabaigta\n",
    "\n",
    "def print_formatted(number):\n",
    "\n",
    "    for i in range (1, number + 1):\n",
    "        print(i, oct(i).rjust(0), str.capitalize(hex(i)), bin(i) )\n",
    "\n",
    "    \n",
    "\n",
    "number = int(input())\n",
    "\n",
    "print_formatted(number)"
   ]
  },
  {
   "cell_type": "code",
   "execution_count": null,
   "metadata": {},
   "outputs": [],
   "source": [
    "x = int(input(\"input x\"))\n",
    "y = int(input(\"input y\"))\n",
    "z = int(input(\"input z\"))\n",
    "n = int(input(\"input n\"))\n",
    "\n",
    "# Python 3 code to find sum\n",
    "# of elements in given array\n",
    "# driver function\n",
    "\n",
    " \n",
    "# input values to list\n",
    "arr_cuboid = []\n",
    " \n",
    "# sum() is an inbuilt function in python that adds\n",
    "# all the elements in list,set and tuples and returns\n",
    "# the value\n",
    "\n",
    "\n",
    "for i in range(x + 1):\n",
    "    for j in range(y + 1):\n",
    "        for k in range(z + 1):\n",
    "            if i + j + k != n:\n",
    "                arr = [i, j, k]\n",
    "                arr_cuboid.append(arr)\n",
    "print(arr_cuboid)\n",
    "\n",
    "#if ans == n:\n",
    "   # print(\"Tai lygu n, \", n)\n",
    "#else:\n",
    "    # display sum\n",
    "    #print('Sum of the array is ', ans)"
   ]
  },
  {
   "cell_type": "code",
   "execution_count": 8,
   "metadata": {},
   "outputs": [
    {
     "name": "stdout",
     "output_type": "stream",
     "text": [
      "0 0 0\n",
      "0 0 1\n",
      "1 0 0\n",
      "1 0 1\n"
     ]
    }
   ],
   "source": [
    "for i in range (2):\n",
    "    for j in range (1):\n",
    "        for k in range(2):\n",
    "            print(i, j, k)"
   ]
  }
 ],
 "metadata": {
  "kernelspec": {
   "display_name": "Python 3.8.10 64-bit",
   "language": "python",
   "name": "python3"
  },
  "language_info": {
   "codemirror_mode": {
    "name": "ipython",
    "version": 3
   },
   "file_extension": ".py",
   "mimetype": "text/x-python",
   "name": "python",
   "nbconvert_exporter": "python",
   "pygments_lexer": "ipython3",
   "version": "3.8.10"
  },
  "orig_nbformat": 4,
  "vscode": {
   "interpreter": {
    "hash": "31f2aee4e71d21fbe5cf8b01ff0e069b9275f58929596ceb00d14d90e3e16cd6"
   }
  }
 },
 "nbformat": 4,
 "nbformat_minor": 2
}
